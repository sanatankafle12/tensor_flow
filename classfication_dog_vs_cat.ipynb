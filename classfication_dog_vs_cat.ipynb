{
 "cells": [
  {
   "cell_type": "markdown",
   "metadata": {},
   "source": [
    "## importing necessary modules"
   ]
  },
  {
   "cell_type": "code",
   "execution_count": 2,
   "metadata": {},
   "outputs": [
    {
     "name": "stderr",
     "output_type": "stream",
     "text": [
      "2024-06-19 19:01:34.253462: I tensorflow/tsl/cuda/cudart_stub.cc:28] Could not find cuda drivers on your machine, GPU will not be used.\n",
      "2024-06-19 19:01:35.557654: I tensorflow/tsl/cuda/cudart_stub.cc:28] Could not find cuda drivers on your machine, GPU will not be used.\n",
      "2024-06-19 19:01:35.564222: I tensorflow/core/platform/cpu_feature_guard.cc:182] This TensorFlow binary is optimized to use available CPU instructions in performance-critical operations.\n",
      "To enable the following instructions: AVX2 FMA, in other operations, rebuild TensorFlow with the appropriate compiler flags.\n",
      "2024-06-19 19:01:40.892559: W tensorflow/compiler/tf2tensorrt/utils/py_utils.cc:38] TF-TRT Warning: Could not find TensorRT\n"
     ]
    }
   ],
   "source": [
    "import tensorflow as tf\n",
    "import numpy as np\n",
    "import matplotlib.pyplot as plt\n",
    "import pandas as pd\n",
    "import cv2\n",
    "import os\n",
    "import random\n",
    "import pickle"
   ]
  },
  {
   "cell_type": "code",
   "execution_count": 2,
   "metadata": {},
   "outputs": [],
   "source": [
    "Directory = r'/mnt/c/Users/sanatan/OneDrive/Desktop/Shrig_learning/Assignments/Tensorflow_Basics/datasets/archive/Dog and Cat .png'"
   ]
  },
  {
   "cell_type": "code",
   "execution_count": 3,
   "metadata": {},
   "outputs": [],
   "source": [
    "Categories = ['Cat', 'Dog']"
   ]
  },
  {
   "cell_type": "markdown",
   "metadata": {},
   "source": [
    "## PreProcessing the data\n",
    "\n",
    "- Assign directory\n",
    "- Resize the iamge\n",
    "- Adding the labels to the images"
   ]
  },
  {
   "cell_type": "code",
   "execution_count": 4,
   "metadata": {},
   "outputs": [],
   "source": [
    "data = []\n",
    "\n",
    "for category in Categories:\n",
    "    folder = os.path.join(Directory, category)\n",
    "    label = Categories.index(category)\n",
    "    for img in os.listdir(folder):\n",
    "        img_path = os.path.join(folder, img)\n",
    "        img_arr = cv2.imread(img_path)\n",
    "        img_arr = cv2.resize(img_arr,(100,100))\n",
    "        data.append([img_arr, label])"
   ]
  },
  {
   "cell_type": "code",
   "execution_count": 5,
   "metadata": {},
   "outputs": [
    {
     "data": {
      "text/plain": [
       "1000"
      ]
     },
     "execution_count": 5,
     "metadata": {},
     "output_type": "execute_result"
    }
   ],
   "source": [
    "len(data)"
   ]
  },
  {
   "cell_type": "code",
   "execution_count": 6,
   "metadata": {},
   "outputs": [],
   "source": [
    "random.shuffle(data)"
   ]
  },
  {
   "cell_type": "code",
   "execution_count": 7,
   "metadata": {},
   "outputs": [],
   "source": [
    "X = []\n",
    "y = []\n",
    "for features, labels in data:\n",
    "    X.append(features)\n",
    "    y.append(labels)"
   ]
  },
  {
   "cell_type": "code",
   "execution_count": 8,
   "metadata": {},
   "outputs": [],
   "source": [
    "X = np.array(X)\n",
    "y = np.array(y)"
   ]
  },
  {
   "cell_type": "code",
   "execution_count": 9,
   "metadata": {},
   "outputs": [
    {
     "data": {
      "text/plain": [
       "1000"
      ]
     },
     "execution_count": 9,
     "metadata": {},
     "output_type": "execute_result"
    }
   ],
   "source": [
    "len(X)\n",
    "len(y)"
   ]
  },
  {
   "cell_type": "markdown",
   "metadata": {},
   "source": [
    "Saving the dataset so that we don't have to preprocess it again and again"
   ]
  },
  {
   "cell_type": "code",
   "execution_count": 10,
   "metadata": {},
   "outputs": [],
   "source": [
    "pickle.dump(X, open('X.pkl','wb'))\n",
    "pickle.dump(y, open('y.pkl','wb'))"
   ]
  },
  {
   "cell_type": "markdown",
   "metadata": {},
   "source": [
    "## Implementing the Model"
   ]
  },
  {
   "cell_type": "code",
   "execution_count": 3,
   "metadata": {},
   "outputs": [],
   "source": [
    "X = pickle.load(open('X.pkl','rb'))\n",
    "y = pickle.load(open('y.pkl','rb'))"
   ]
  },
  {
   "cell_type": "code",
   "execution_count": 4,
   "metadata": {},
   "outputs": [],
   "source": [
    "X =X/225"
   ]
  },
  {
   "cell_type": "code",
   "execution_count": 5,
   "metadata": {},
   "outputs": [
    {
     "data": {
      "text/plain": [
       "(1000, 100, 100, 3)"
      ]
     },
     "execution_count": 5,
     "metadata": {},
     "output_type": "execute_result"
    }
   ],
   "source": [
    "X.shape"
   ]
  },
  {
   "cell_type": "code",
   "execution_count": 6,
   "metadata": {},
   "outputs": [],
   "source": [
    "from tensorflow.keras.layers import Dense, Flatten, Conv2D, MaxPooling2D\n",
    "from tensorflow.keras.models import Sequential\n",
    "from tensorflow.keras.optimizers import Adam"
   ]
  },
  {
   "cell_type": "code",
   "execution_count": 20,
   "metadata": {},
   "outputs": [],
   "source": [
    "def VGG(X, y, learning_rate):\n",
    "  \"\"\"\n",
    "  Creates a simplified VGG-like model with multiple convolutional blocks.\n",
    "\n",
    "  Args:\n",
    "      X: Training data (numpy array of images).\n",
    "      y: Training labels (numpy array).\n",
    "      learning_rate: Learning rate for the optimizer.\n",
    "\n",
    "  Returns:\n",
    "      A compiled Keras model.\n",
    "  \"\"\"\n",
    "\n",
    "  model = Sequential()\n",
    "\n",
    "  model.add(Conv2D(64, (3, 3), activation='relu', input_shape=X.shape[1:]))\n",
    "  model.add(Conv2D(64, (3, 3), activation='relu', padding='same'))\n",
    "  model.add(MaxPooling2D((2, 2)))\n",
    "\n",
    "  model.add(Conv2D(128, (3, 3), activation='relu'))\n",
    "  model.add(Conv2D(128, (3, 3), activation='relu', padding='same'))\n",
    "  model.add(MaxPooling2D((2, 2)))\n",
    "\n",
    "  model.add(Conv2D(256, (3, 3), activation='relu'))\n",
    "  model.add(Conv2D(256, (3, 3), activation='relu', padding='same'))\n",
    "  model.add(MaxPooling2D((2, 2)))\n",
    "\n",
    "  model.add(Flatten())\n",
    "  model.add(Dense(128, activation='relu'))\n",
    "  model.add(Dense(2, activation='softmax'))\n",
    "\n",
    "  optimizer = Adam(learning_rate=learning_rate)\n",
    "  model.compile(optimizer=optimizer, loss='sparse_categorical_crossentropy', metrics=['accuracy'])\n",
    "\n",
    "  history = model.fit(X, y, epochs=5, validation_split=0.2)\n",
    "\n",
    "  return model, history\n"
   ]
  },
  {
   "cell_type": "code",
   "execution_count": 8,
   "metadata": {},
   "outputs": [
    {
     "name": "stdout",
     "output_type": "stream",
     "text": [
      "(100, 100, 3)\n"
     ]
    }
   ],
   "source": [
    "print(X.shape[1:])"
   ]
  },
  {
   "cell_type": "code",
   "execution_count": 21,
   "metadata": {},
   "outputs": [
    {
     "name": "stdout",
     "output_type": "stream",
     "text": [
      "Epoch 1/5\n",
      "25/25 [==============================] - 44s 1s/step - loss: 0.6957 - accuracy: 0.5063 - val_loss: 0.6901 - val_accuracy: 0.5150\n",
      "Epoch 2/5\n",
      "25/25 [==============================] - 33s 1s/step - loss: 0.6848 - accuracy: 0.5425 - val_loss: 0.6714 - val_accuracy: 0.5950\n",
      "Epoch 3/5\n",
      "25/25 [==============================] - 32s 1s/step - loss: 0.6813 - accuracy: 0.5475 - val_loss: 0.6668 - val_accuracy: 0.6150\n",
      "Epoch 4/5\n",
      "25/25 [==============================] - 32s 1s/step - loss: 0.6569 - accuracy: 0.6187 - val_loss: 0.6602 - val_accuracy: 0.5950\n",
      "Epoch 5/5\n",
      "25/25 [==============================] - 32s 1s/step - loss: 0.6115 - accuracy: 0.6712 - val_loss: 0.6431 - val_accuracy: 0.5950\n"
     ]
    }
   ],
   "source": [
    "learning_rate = 0.0001\n",
    "model, history = VGG(X,y, learning_rate)"
   ]
  },
  {
   "cell_type": "code",
   "execution_count": 22,
   "metadata": {},
   "outputs": [
    {
     "data": {
      "image/png": "[encoded data removed]",
      "text/plain": [
       "<Figure size 640x480 with 1 Axes>"
      ]
     },
     "metadata": {},
     "output_type": "display_data"
    }
   ],
   "source": [
    "train_loss = history.history['loss']\n",
    "val_loss = history.history['val_loss']\n",
    "\n",
    "plt.plot(train_loss, label='Training Loss')\n",
    "plt.plot(val_loss, label='Validation Loss')\n",
    "plt.xlabel('Epoch')\n",
    "plt.ylabel('Loss')\n",
    "plt.legend()\n",
    "plt.title('Training and Validation Loss for VGG Model')\n",
    "plt.show()"
   ]
  },
  {
   "cell_type": "markdown",
   "metadata": {},
   "source": [
    "## Trying Resnet to see how it works"
   ]
  },
  {
   "cell_type": "code",
   "execution_count": 10,
   "metadata": {},
   "outputs": [],
   "source": [
    "from tensorflow.keras.applications import ResNet50  # Or any other pre-trained ResNet variant\n",
    "from tensorflow.keras.layers import Dense, GlobalAveragePooling2D"
   ]
  },
  {
   "cell_type": "code",
   "execution_count": 11,
   "metadata": {},
   "outputs": [],
   "source": [
    "from keras.models import Model"
   ]
  },
  {
   "cell_type": "code",
   "execution_count": 23,
   "metadata": {},
   "outputs": [],
   "source": [
    "\n",
    "def create_resnet_model( X, y, learning_rate = 0.001, input_shape=(224, 224, 3), num_classes=10, freeze_layers=True):\n",
    "  \"\"\"\n",
    "  Creates a ResNet model for fine-tuning on a classification task.\n",
    "\n",
    "  Args:\n",
    "      input_shape: Shape of the input image (default: (224, 224, 3)).\n",
    "      num_classes: Number of classes in your classification task.\n",
    "      freeze_layers: Whether to freeze the pre-trained layers (default: True).\n",
    "\n",
    "  Returns:\n",
    "      A compiled Keras model.\n",
    "  \"\"\"\n",
    "\n",
    "  # Load the pre-trained ResNet50 model\n",
    "  resnet_base = ResNet50(weights='imagenet', include_top=False, input_shape=input_shape)\n",
    "\n",
    "  # Freeze pre-trained layers if specified\n",
    "  if freeze_layers:\n",
    "    for layer in resnet_base.layers:\n",
    "      layer.trainable = False\n",
    "\n",
    "  # Add custom layers for classification\n",
    "  x = resnet_base.output\n",
    "  x = GlobalAveragePooling2D()(x)\n",
    "  x = Dense(1024, activation='relu')(x)  # Example dense layer (adjust units as needed)\n",
    "  predictions = Dense(num_classes, activation='softmax')(x)\n",
    "\n",
    "  # Create the final model\n",
    "  model = Model(inputs=resnet_base.input, outputs=predictions)\n",
    "\n",
    "  # Compile the model\n",
    "  optimizer = Adam(learning_rate=learning_rate)\n",
    "  model.compile(optimizer=optimizer, loss='sparse_categorical_crossentropy', metrics=['accuracy'])\n",
    "\n",
    "  history = model.fit(X,y,epochs=5, validation_split=0.2)\n",
    "\n",
    "  return model, history"
   ]
  },
  {
   "cell_type": "code",
   "execution_count": 25,
   "metadata": {},
   "outputs": [
    {
     "name": "stdout",
     "output_type": "stream",
     "text": [
      "Epoch 1/5\n",
      "25/25 [==============================] - 36s 959ms/step - loss: 1.1029 - accuracy: 0.5050 - val_loss: 0.7420 - val_accuracy: 0.5450\n",
      "Epoch 2/5\n",
      "25/25 [==============================] - 14s 563ms/step - loss: 0.7823 - accuracy: 0.5487 - val_loss: 0.6684 - val_accuracy: 0.6050\n",
      "Epoch 3/5\n",
      "25/25 [==============================] - 11s 443ms/step - loss: 0.7337 - accuracy: 0.5537 - val_loss: 0.6568 - val_accuracy: 0.5900\n",
      "Epoch 4/5\n",
      "25/25 [==============================] - 10s 410ms/step - loss: 0.7158 - accuracy: 0.5612 - val_loss: 0.6870 - val_accuracy: 0.5500\n",
      "Epoch 5/5\n",
      "25/25 [==============================] - 10s 409ms/step - loss: 0.6834 - accuracy: 0.6062 - val_loss: 0.9396 - val_accuracy: 0.5050\n"
     ]
    }
   ],
   "source": [
    "model_res, history_res = create_resnet_model( X, y, learning_rate = 0.001,input_shape= (100, 100, 3))"
   ]
  },
  {
   "cell_type": "code",
   "execution_count": 26,
   "metadata": {},
   "outputs": [
    {
     "data": {
      "image/png": "[encoded data removed]",
      "text/plain": [
       "<Figure size 640x480 with 1 Axes>"
      ]
     },
     "metadata": {},
     "output_type": "display_data"
    }
   ],
   "source": [
    "train_loss = history_res.history['loss']\n",
    "val_loss = history_res.history['val_loss']\n",
    "\n",
    "# Plot the loss curves\n",
    "plt.plot(train_loss, label='Training Loss')\n",
    "plt.plot(val_loss, label='Validation Loss')\n",
    "plt.xlabel('Epoch')\n",
    "plt.ylabel('Loss')\n",
    "plt.legend()\n",
    "plt.title('Training and Validation Loss for VGG Model')\n",
    "plt.show()"
   ]
  },
  {
   "cell_type": "markdown",
   "metadata": {},
   "source": [
    "## Inception Net"
   ]
  },
  {
   "cell_type": "code",
   "execution_count": 12,
   "metadata": {},
   "outputs": [],
   "source": [
    "from tensorflow.keras.applications.inception_v3 import InceptionV3"
   ]
  },
  {
   "cell_type": "code",
   "execution_count": 17,
   "metadata": {},
   "outputs": [],
   "source": [
    "from tensorflow.keras.optimizers import RMSprop\n",
    "from tensorflow.keras import layers"
   ]
  },
  {
   "cell_type": "code",
   "execution_count": 46,
   "metadata": {},
   "outputs": [],
   "source": [
    "def inception_net(X, y):\n",
    "      \"\"\"\n",
    "    Creates a Inceoption Net model for fine-tuning on a classification task.\n",
    "\n",
    "    Args:\n",
    "    X : features\n",
    "    y : target\n",
    "\n",
    "    Returns:\n",
    "      A compiled Keras model.\n",
    "  \"\"\"\n",
    "    pre_trained_model = InceptionV3(input_shape=(100,100,3), include_top= False, weights = 'imagenet')\n",
    "    for layer in pre_trained_model.layers:\n",
    "        layer.trainble = False\n",
    "    x = layers.Flatten()(pre_trained_model.output)\n",
    "    x = layers.Dense(1024, activation = 'relu')(x)\n",
    "    x = layers.Dropout(0.4)(x)\n",
    "    x = layers.Dense(1, activation = 'sigmoid')(x)\n",
    "    model = Model(pre_trained_model.input, x)\n",
    "\n",
    "    model.compile(optimizer = Adam(learning_rate=0.0001),\n",
    "                loss='binary_crossentropy',\n",
    "                metrics='acc')\n",
    "    history_incep = model.fit(X,y, epochs=6, validation_split=0.2)\n",
    "    return model, history_incep"
   ]
  },
  {
   "cell_type": "code",
   "execution_count": 52,
   "metadata": {},
   "outputs": [
    {
     "name": "stdout",
     "output_type": "stream",
     "text": [
      "Epoch 1/6\n",
      "25/25 [==============================] - 96s 1s/step - loss: 0.7173 - acc: 0.5475 - val_loss: 0.6515 - val_acc: 0.6700\n",
      "Epoch 2/6\n",
      "25/25 [==============================] - 23s 883ms/step - loss: 0.5916 - acc: 0.7125 - val_loss: 1.0151 - val_acc: 0.6050\n",
      "Epoch 3/6\n",
      "25/25 [==============================] - 20s 801ms/step - loss: 0.4305 - acc: 0.8375 - val_loss: 0.7420 - val_acc: 0.7450\n",
      "Epoch 4/6\n",
      "25/25 [==============================] - 20s 799ms/step - loss: 0.2672 - acc: 0.8975 - val_loss: 0.5230 - val_acc: 0.7900\n",
      "Epoch 5/6\n",
      "25/25 [==============================] - 20s 788ms/step - loss: 0.1532 - acc: 0.9488 - val_loss: 0.4861 - val_acc: 0.8150\n",
      "Epoch 6/6\n",
      "25/25 [==============================] - 20s 787ms/step - loss: 0.1128 - acc: 0.9625 - val_loss: 0.5843 - val_acc: 0.7950\n"
     ]
    }
   ],
   "source": [
    "model, history_incep = inception_net(X, y)"
   ]
  },
  {
   "cell_type": "code",
   "execution_count": 54,
   "metadata": {},
   "outputs": [
    {
     "data": {
      "image/png": "[encoded data removed]",
      "text/plain": [
       "<Figure size 640x480 with 1 Axes>"
      ]
     },
     "metadata": {},
     "output_type": "display_data"
    }
   ],
   "source": [
    "train_loss = history_incep.history['loss']\n",
    "val_loss = history_incep.history['val_loss']\n",
    "# Plot the loss curves\n",
    "plt.plot(train_loss, label='Training Loss')\n",
    "plt.plot(val_loss, label=' val Loss')\n",
    "plt.xlabel('Epoch')\n",
    "plt.ylabel('Loss')\n",
    "plt.legend()\n",
    "plt.title('Training and Validation Loss for VGG history_incep')\n",
    "plt.show()"
   ]
  },
  {
   "cell_type": "markdown",
   "metadata": {},
   "source": [
    "## testing the model for varaying learning rate"
   ]
  },
  {
   "cell_type": "code",
   "execution_count": 55,
   "metadata": {},
   "outputs": [
    {
     "name": "stdout",
     "output_type": "stream",
     "text": [
      "Epoch 1/10\n",
      "25/25 [==============================] - 29s 556ms/step - loss: 0.6394 - acc: 0.7113 - val_loss: 0.5732 - val_acc: 0.7600\n",
      "Epoch 2/10\n",
      "25/25 [==============================] - 6s 241ms/step - loss: 0.3550 - acc: 0.8462 - val_loss: 0.4364 - val_acc: 0.8550\n",
      "Epoch 3/10\n",
      "25/25 [==============================] - 4s 177ms/step - loss: 0.2540 - acc: 0.8913 - val_loss: 0.4129 - val_acc: 0.8500\n",
      "Epoch 4/10\n",
      "25/25 [==============================] - 4s 160ms/step - loss: 0.2029 - acc: 0.9025 - val_loss: 0.4214 - val_acc: 0.8650\n",
      "Epoch 5/10\n",
      "25/25 [==============================] - 4s 159ms/step - loss: 0.1524 - acc: 0.9400 - val_loss: 0.3837 - val_acc: 0.8500\n",
      "Epoch 6/10\n",
      "25/25 [==============================] - 4s 155ms/step - loss: 0.1260 - acc: 0.9538 - val_loss: 0.4759 - val_acc: 0.8600\n",
      "Epoch 7/10\n",
      "25/25 [==============================] - 4s 173ms/step - loss: 0.1187 - acc: 0.9588 - val_loss: 0.4528 - val_acc: 0.8550\n",
      "Epoch 8/10\n",
      "25/25 [==============================] - 4s 150ms/step - loss: 0.0811 - acc: 0.9800 - val_loss: 0.4236 - val_acc: 0.8500\n",
      "Epoch 9/10\n",
      "25/25 [==============================] - 4s 160ms/step - loss: 0.0858 - acc: 0.9812 - val_loss: 0.4312 - val_acc: 0.8600\n",
      "Epoch 10/10\n",
      "25/25 [==============================] - 5s 209ms/step - loss: 0.0759 - acc: 0.9787 - val_loss: 0.4541 - val_acc: 0.8300\n",
      "Epoch 1/10\n",
      "25/25 [==============================] - 34s 606ms/step - loss: 1.7746 - acc: 0.6900 - val_loss: 0.5291 - val_acc: 0.8100\n",
      "Epoch 2/10\n",
      "25/25 [==============================] - 8s 322ms/step - loss: 0.4080 - acc: 0.8350 - val_loss: 0.4288 - val_acc: 0.8200\n",
      "Epoch 3/10\n",
      "25/25 [==============================] - 8s 302ms/step - loss: 0.2287 - acc: 0.9013 - val_loss: 0.4992 - val_acc: 0.8250\n",
      "Epoch 4/10\n",
      "25/25 [==============================] - 6s 260ms/step - loss: 0.1560 - acc: 0.9337 - val_loss: 0.4069 - val_acc: 0.8500\n",
      "Epoch 5/10\n",
      "25/25 [==============================] - 9s 364ms/step - loss: 0.1109 - acc: 0.9613 - val_loss: 0.4376 - val_acc: 0.8400\n",
      "Epoch 6/10\n",
      "25/25 [==============================] - 6s 232ms/step - loss: 0.0992 - acc: 0.9613 - val_loss: 0.5287 - val_acc: 0.8200\n",
      "Epoch 7/10\n",
      "25/25 [==============================] - 5s 213ms/step - loss: 0.0714 - acc: 0.9800 - val_loss: 0.4629 - val_acc: 0.8400\n",
      "Epoch 8/10\n",
      "25/25 [==============================] - 5s 215ms/step - loss: 0.0509 - acc: 0.9862 - val_loss: 0.4693 - val_acc: 0.8300\n",
      "Epoch 9/10\n",
      "25/25 [==============================] - 5s 215ms/step - loss: 0.0463 - acc: 0.9912 - val_loss: 0.5205 - val_acc: 0.8450\n",
      "Epoch 10/10\n",
      "25/25 [==============================] - 5s 192ms/step - loss: 0.0255 - acc: 0.9975 - val_loss: 0.5056 - val_acc: 0.8650\n",
      "Epoch 1/10\n",
      "25/25 [==============================] - 29s 591ms/step - loss: 0.9065 - acc: 0.5325 - val_loss: 0.6963 - val_acc: 0.5600\n",
      "Epoch 2/10\n",
      "25/25 [==============================] - 7s 290ms/step - loss: 0.7497 - acc: 0.6175 - val_loss: 0.6002 - val_acc: 0.6350\n",
      "Epoch 3/10\n",
      "25/25 [==============================] - 6s 254ms/step - loss: 0.6729 - acc: 0.6425 - val_loss: 0.5448 - val_acc: 0.7050\n",
      "Epoch 4/10\n",
      "25/25 [==============================] - 6s 256ms/step - loss: 0.5828 - acc: 0.6913 - val_loss: 0.5134 - val_acc: 0.7500\n",
      "Epoch 5/10\n",
      "25/25 [==============================] - 5s 198ms/step - loss: 0.5452 - acc: 0.7300 - val_loss: 0.4915 - val_acc: 0.7550\n",
      "Epoch 6/10\n",
      "25/25 [==============================] - 5s 185ms/step - loss: 0.4862 - acc: 0.7688 - val_loss: 0.4781 - val_acc: 0.7750\n",
      "Epoch 7/10\n",
      "25/25 [==============================] - 4s 178ms/step - loss: 0.4617 - acc: 0.7837 - val_loss: 0.4620 - val_acc: 0.7850\n",
      "Epoch 8/10\n",
      "25/25 [==============================] - 4s 166ms/step - loss: 0.4450 - acc: 0.8000 - val_loss: 0.4558 - val_acc: 0.7950\n",
      "Epoch 9/10\n",
      "25/25 [==============================] - 4s 146ms/step - loss: 0.3820 - acc: 0.8238 - val_loss: 0.4480 - val_acc: 0.7850\n",
      "Epoch 10/10\n",
      "25/25 [==============================] - 4s 176ms/step - loss: 0.3823 - acc: 0.8250 - val_loss: 0.4406 - val_acc: 0.7900\n"
     ]
    }
   ],
   "source": [
    "def inception_net(X, y, learning_rate=0.0001):\n",
    "  \"\"\"\n",
    "  Creates a Inception Net model for fine-tuning on a classification task.\n",
    "\n",
    "  Args:\n",
    "    X: Features.\n",
    "    y: Target labels.\n",
    "    learning_rate: Learning rate for the optimizer (default: 0.0001).\n",
    "\n",
    "  Returns:\n",
    "    A compiled Keras model and training history.\n",
    "  \"\"\"\n",
    "  pre_trained_model = InceptionV3(input_shape=(100, 100, 3), include_top=False, weights='imagenet')\n",
    "  for layer in pre_trained_model.layers:\n",
    "    layer.trainable = False\n",
    "  x = layers.Flatten()(pre_trained_model.output)\n",
    "  x = layers.Dense(1024, activation='relu')(x)\n",
    "  x = layers.Dropout(0.4)(x)\n",
    "  x = layers.Dense(1, activation='sigmoid')(x)\n",
    "  model = Model(pre_trained_model.input, x)\n",
    "\n",
    "  model.compile(optimizer=Adam(learning_rate=learning_rate),\n",
    "                loss='binary_crossentropy',\n",
    "                metrics='acc')\n",
    "\n",
    "  history_incep = model.fit(X, y, epochs=10, validation_split=0.2)\n",
    "  return model, history_incep\n",
    "\n",
    "learning_rates = [0.0001, 0.001, 0.00001] \n",
    "models_and_histories = []\n",
    "\n",
    "for lr in learning_rates:\n",
    "  model, history = inception_net(X, y, learning_rate=lr)\n",
    "  models_and_histories.append((model, history))\n"
   ]
  },
  {
   "cell_type": "code",
   "execution_count": 66,
   "metadata": {},
   "outputs": [
    {
     "data": {
      "text/plain": [
       "{'loss': [0.6393531560897827,\n",
       "  0.35497012734413147,\n",
       "  0.25396737456321716,\n",
       "  0.20289655029773712,\n",
       "  0.15240593254566193,\n",
       "  0.12601202726364136,\n",
       "  0.11872057616710663,\n",
       "  0.08105973899364471,\n",
       "  0.08584827184677124,\n",
       "  0.07585931569337845],\n",
       " 'acc': [0.7112500071525574,\n",
       "  0.8462499976158142,\n",
       "  0.8912500143051147,\n",
       "  0.9024999737739563,\n",
       "  0.9399999976158142,\n",
       "  0.9537500143051147,\n",
       "  0.9587500095367432,\n",
       "  0.9800000190734863,\n",
       "  0.981249988079071,\n",
       "  0.9787499904632568],\n",
       " 'val_loss': [0.5731812119483948,\n",
       "  0.43644076585769653,\n",
       "  0.41289645433425903,\n",
       "  0.42141276597976685,\n",
       "  0.3836555480957031,\n",
       "  0.4759121835231781,\n",
       "  0.45279407501220703,\n",
       "  0.4236101806163788,\n",
       "  0.4311973452568054,\n",
       "  0.4541027545928955],\n",
       " 'val_acc': [0.7599999904632568,\n",
       "  0.8550000190734863,\n",
       "  0.8500000238418579,\n",
       "  0.8650000095367432,\n",
       "  0.8500000238418579,\n",
       "  0.8600000143051147,\n",
       "  0.8550000190734863,\n",
       "  0.8500000238418579,\n",
       "  0.8600000143051147,\n",
       "  0.8299999833106995]}"
      ]
     },
     "execution_count": 66,
     "metadata": {},
     "output_type": "execute_result"
    }
   ],
   "source": [
    "models_and_histories[0][1].history"
   ]
  },
  {
   "cell_type": "code",
   "execution_count": 67,
   "metadata": {},
   "outputs": [
    {
     "name": "stdout",
     "output_type": "stream",
     "text": [
      "<keras.src.engine.functional.Functional object at 0x7f0b358dbcd0> <keras.src.callbacks.History object at 0x7f0b358a8c10>\n",
      "<keras.src.engine.functional.Functional object at 0x7f0b3553ab80> <keras.src.callbacks.History object at 0x7f0b3548fdc0>\n",
      "<keras.src.engine.functional.Functional object at 0x7f0b3551a130> <keras.src.callbacks.History object at 0x7f0b35509d00>\n"
     ]
    }
   ],
   "source": [
    "val_acc = []\n",
    "val_loss = []\n",
    "for model, history in models_and_histories:\n",
    "  val_acc.append(history.history['val_accuracy'])\n",
    "  val_loss.append(history.history['val_loss'])\n",
    "\n",
    "plt.figure(figsize=(10, 6))\n",
    "for i, lr in enumerate(learning_rates):\n",
    "  plt.plot(history.epoch, val_acc[i], label=f'Learning Rate: {lr}')\n",
    "plt.xlabel('Epoch')\n",
    "plt.ylabel('Validation Accuracy')\n",
    "plt.title('Validation Accuracy vs. Learning Rate')\n",
    "plt.legend()\n",
    "plt.grid(True)\n",
    "plt.show()"
   ]
  }
 ],
 "metadata": {
  "kernelspec": {
   "display_name": "Python 3",
   "language": "python",
   "name": "python3"
  },
  "language_info": {
   "codemirror_mode": {
    "name": "ipython",
    "version": 3
   },
   "file_extension": ".py",
   "mimetype": "text/x-python",
   "name": "python",
   "nbconvert_exporter": "python",
   "pygments_lexer": "ipython3",
   "version": "3.8.5"
  }
 },
 "nbformat": 4,
 "nbformat_minor": 2
}
